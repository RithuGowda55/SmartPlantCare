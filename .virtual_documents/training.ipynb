import tensorflow as tf 
from tensorflow.keras import models,layers
import matplotlib.pyplot as plt 


IMAGE_SIZE = 128
BATCH_SIZE = 32
CHANNELS = 3
EPOCHS = 10


dataset = tf.keras.preprocessing.image_dataset_from_directory(
    "plantDisease\\train",
    shuffle=True,
    image_size = (IMAGE_SIZE,IMAGE_SIZE),
    batch_size = BATCH_SIZE
)


class_names = dataset.class_names
class_names


len(dataset)


for image_batch,label_batch in dataset.take(1):
    # print(image_batch[0])
    print(image_batch[0].numpy())
    print(image_batch.shape)
    # print(label_batch.numpy())


for image_batch,label_batch in dataset.take(1):
    # everytime it shuffles as it been enabled
    plt.imshow(image_batch[31].numpy().astype("uint8"))
    plt.title(class_names[label_batch[31]])
    plt.axis("off")
    # label_batch


plt.figure(figsize=(90,90))
for image_batch,label_batch in dataset.take(1):
    for i in range (32):
        # plt.subplot(row,col,till?)
        ax = plt.subplot(8,4,i+1)        
        plt.imshow(image_batch[i].numpy().astype("uint8"))
        plt.title(class_names[label_batch[i]])
        plt.axis("off")
        # label_batch


len(dataset)




train_size = 0.8
len(dataset)*train_size


train_ds = dataset.take(1757)
len(train_ds)


test_ds = dataset.skip(1757)
len(test_ds)


val_size=0.1
len(dataset)*val_size


val_ds = test_ds.take(219)
len(val_ds)


test_ds = test_ds.skip(219)
len(test_ds)


def get_dataset_partitions_tf(ds, train_split=0.8, val_split=0.1, test_split=0.1, shuffle=True, shuffle_size=500):
    assert (train_split + test_split + val_split) == 1
    
    ds_size = len(ds)
    
    if shuffle:
        ds = ds.shuffle(shuffle_size, seed=42)
    
    train_size = int(train_split * ds_size)
    val_size = int(val_split * ds_size)
    
    train_ds = ds.take(train_size)    
    val_ds = ds.skip(train_size).take(val_size)
    test_ds = ds.skip(train_size).skip(val_size)
    
    return train_ds, val_ds, test_ds



train_ds, val_ds, test_ds = get_dataset_partitions_tf(dataset)



len(train_ds)



len(val_ds)



len(test_ds)








train_ds = train_ds.cache().shuffle(700).prefetch(buffer_size = tf.data.AUTOTUNE)
val_ds = val_ds.cache().shuffle(700).prefetch(buffer_size = tf.data.AUTOTUNE)
test_ds = test_ds.cache().shuffle(700).prefetch(buffer_size = tf.data.AUTOTUNE)


resize_and_rescale = tf.keras.Sequential([
    layers.Resizing(IMAGE_SIZE, IMAGE_SIZE, input_shape=(IMAGE_SIZE, IMAGE_SIZE, 3)),  # Accept any input size
    layers.Rescaling(1.0 / 255)  # Rescales pixel values from [0, 255] to [0, 1]
])


data_augmentation = tf.keras.Sequential([
    layers.RandomFlip("horizontal_and_vertical", input_shape=(IMAGE_SIZE, IMAGE_SIZE, CHANNELS)),
    layers.RandomRotation(0.2),
    layers.RandomZoom(0.1),
])


n_classes = 38





model = models.Sequential([
    resize_and_rescale,
    data_augmentation,  # Include data augmentation in the model
    layers.Conv2D(32, kernel_size=(3, 3), activation='relu'),  
    layers.MaxPooling2D((2, 2)),
    layers.Conv2D(64, kernel_size=(3, 3), activation='relu'),
    layers.MaxPooling2D((2, 2)),
    layers.Conv2D(64, kernel_size=(3, 3), activation='relu'),
    layers.MaxPooling2D((2, 2)),
    layers.Conv2D(64, (3, 3), activation='relu'),
    layers.MaxPooling2D((2, 2)),
    layers.Conv2D(64, (3, 3), activation='relu'),
    layers.MaxPooling2D((2, 2)),
    layers.Flatten(),
    layers.Dense(64, activation='relu'),
    layers.Dense(n_classes, activation='softmax'),
])


model.summary()


model.compile(
    optimizer = 'adam',
    loss = tf.keras.losses.SparseCategoricalCrossentropy(from_logits=False),
    metrics = ['accuracy']
)


modelhistory = model.fit(
    train_ds,
    batch_size=BATCH_SIZE,
    validation_data=val_ds,
    verbose=1,
    epochs=10,
)


scores = model.evaluate(test_ds)


scores = model.evaluate(train_ds)


scores = model.evaluvate(val_ds)


scores


# Access the training history
print(modelhistory.history)




print(modelhistory.params)


acc = modelhistory.history['accuracy']
val_acc = modelhistory.history['val_accuracy']

loss = modelhistory.history['loss']
val_loss = modelhistory.history['val_loss']



plt.figure(figsize=(8, 8))
plt.subplot(1, 2, 1)
plt.plot(range(EPOCHS), acc, label='Training Accuracy')
plt.plot(range(EPOCHS), val_acc, label='Validation Accuracy')
plt.legend(loc='lower right')
plt.title('Training and Validation Accuracy')

plt.subplot(1, 2, 2)
plt.plot(range(EPOCHS), loss, label='Training Loss')
plt.plot(range(EPOCHS), val_loss, label='Validation Loss')
plt.legend(loc='upper right')
plt.title('Training and Validation Loss')
plt.show()


import numpy as np
for images_batch, labels_batch in test_ds.take(1):
    
    first_image = images_batch[0].numpy().astype('uint8')
    first_label = labels_batch[0].numpy()
    
    print("first image to predict")
    plt.imshow(first_image)
    print("actual label:",class_names[first_label])
    
    batch_prediction = model.predict(images_batch)
    print("predicted label:",class_names[np.argmax(batch_prediction[0])])


def predict(model, img):
    img_array = tf.keras.preprocessing.image.img_to_array(images[i].numpy())
    img_array = tf.expand_dims(img_array, 0)

    predictions = model.predict(img_array)

    predicted_class = class_names[np.argmax(predictions[0])]
    confidence = round(100 * (np.max(predictions[0])), 2)
    return predicted_class, confidence


plt.figure(figsize=(15, 15))
for images, labels in test_ds.take(1):
    for i in range(9):
        ax = plt.subplot(3, 3, i + 1)
        plt.imshow(images[i].numpy().astype("uint8"))
        
        predicted_class, confidence = predict(model, images[i].numpy())
        actual_class = class_names[labels[i]] 
        
        plt.title(f"Actual: {actual_class},\n Predicted: {predicted_class}.\n Confidence: {confidence}%")
        
        plt.axis("off")


model.save(f"models/{model_version}.keras")



import os
model_version=max([int(i) for i in os.listdir("models") + [0]])+2
model.save(f"models/{model_version}")



